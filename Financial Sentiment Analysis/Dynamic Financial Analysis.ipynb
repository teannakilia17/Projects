{
 "cells": [
  {
   "cell_type": "markdown",
   "id": "66ccf8da",
   "metadata": {},
   "source": [
    "## Stock Market Data - Intraday Analysis\n",
    "This notebook filters stock market data based on earnings day, focusing on the stock price movements around that date.\n",
    "Data is fetched using the `yfinance` library, and the analysis includes plotting stock prices using `plotly`."
   ]
  },
  {
   "cell_type": "code",
   "execution_count": 1,
   "id": "a7b28310",
   "metadata": {},
   "outputs": [],
   "source": [
    "import yfinance as yf\n",
    "import pandas as pd\n",
    "import numpy as np\n",
    "from datetime import datetime\n",
    "from datetime import timedelta\n",
    "import plotly.graph_objects as go\n"
   ]
  },
  {
   "cell_type": "markdown",
   "id": "1cb9ef7a",
   "metadata": {},
   "source": [
    "## User Date Input for Filtering\n",
    "Prompt the user to input a **start** and **end** date for analysis.  \n",
    "- These dates will be used to filter both the earnings release events and the historical stock data.  \n",
    "- Validation ensures that the dates are in the correct format and that the end date is not earlier than the start date.\n"
   ]
  },
  {
   "cell_type": "code",
   "execution_count": 2,
   "id": "515673a1",
   "metadata": {},
   "outputs": [],
   "source": [
    "# Ask user to input two dates\n",
    "while True:\n",
    "    try:\n",
    "        date_input_1 = input(\"Enter start date (YYYY-MM-DD): \")\n",
    "        date_input_2 = input(\"Enter end date (YYYY-MM-DD): \")\n",
    "        \n",
    "        start_filter = datetime.strptime(date_input_1, \"%Y-%m-%d\").date()\n",
    "        end_filter = datetime.strptime(date_input_2, \"%Y-%m-%d\").date()\n",
    "        \n",
    "        if end_filter < start_filter:\n",
    "            print(\"End date must be later than or equal to start date. Try again.\")\n",
    "        else:\n",
    "            break\n",
    "    except ValueError:\n",
    "        print(\"Invalid date format. Please use YYYY-MM-DD.\")"
   ]
  },
  {
   "cell_type": "markdown",
   "id": "2a06511d",
   "metadata": {},
   "source": [
    "### Select Stock Ticker\n",
    "Manually define the stock symbol (`\"AAPL\"` for Apple, `\"NVDA\"` for NVIDIA, `\"AMZN\"` for Amazon).  \n",
    "This ticker will be used for both historical stock data and earnings calendar retrieval."
   ]
  },
  {
   "cell_type": "code",
   "execution_count": 3,
   "id": "6b3668e0",
   "metadata": {},
   "outputs": [],
   "source": [
    "\n",
    "# PARAMETER: choose your stock symbol\n",
    "TICKER = \"AMZN\"  "
   ]
  },
  {
   "cell_type": "markdown",
   "id": "d016bb81",
   "metadata": {},
   "source": [
    "### Retrieve and Clean Earnings Dates\n",
    "- Convert the index to a timezone-aware datetime and store dates in a clean list.  \n",
    "- Remove any future earnings dates so only past events are considered.\n",
    "- Create a custom function that classifies the market reaction to earnings into **five categories**:Strong Positive, Positive, Neutral, Negative, Strong Negative  \n",
    "- Classification is based on the percentage change in stock price between **T-2** (two trading days before earnings) and **T+2** (two trading days after earnings)."
   ]
  },
  {
   "cell_type": "code",
   "execution_count": 4,
   "id": "26292efc",
   "metadata": {},
   "outputs": [],
   "source": [
    "\n",
    "# Download earnings calendar from yfinance\n",
    "stock = yf.Ticker(TICKER)\n",
    "earnings = stock.get_earnings_dates(limit=20)\n",
    "\n",
    "# Clean up the earnings dataframe\n",
    "earnings.index = pd.to_datetime(earnings.index).tz_localize(None)\n",
    "earnings[\"Earnings Date\"] = earnings.index.date\n",
    "earnings_dates = earnings[\"Earnings Date\"].tolist()\n",
    "\n",
    "# Filter out future earnings\n",
    "today = datetime.today().date()\n",
    "earnings_dates = [d for d in earnings_dates if d <= today]\n",
    "\n",
    "# Define sentiment classifier\n",
    "def categorize_sentiment(change):\n",
    "    if change > 5:\n",
    "        return \"Strong Positive\"\n",
    "    elif change > 1:\n",
    "        return \"Positive\"\n",
    "    elif change >= -1:\n",
    "        return \"Neutral\"\n",
    "    elif change >= -5:\n",
    "        return \"Negative\"\n",
    "    else:\n",
    "        return \"Strong Negative\"\n",
    "\n",
    "# Loop through earnings dates and calculate t-2 to t+2 price change\n",
    "results = []\n",
    "\n",
    "for ed in earnings_dates:\n",
    "    ed = pd.to_datetime(ed)\n",
    "    start_date = ed - pd.Timedelta(days=5)\n",
    "    end_date = ed + pd.Timedelta(days=5)\n",
    "    \n",
    "    data = yf.Ticker(TICKER).history(start=start_date, end=end_date)[['Close']].copy()\n",
    "    data.index = data.index.tz_localize(None)\n",
    "    trading_days = data.index\n",
    "\n",
    "    try:\n",
    "        t_minus_2 = trading_days[trading_days < ed][-2]\n",
    "        t_plus_2 = trading_days[trading_days > ed][1]\n",
    "    except IndexError:\n",
    "        continue\n",
    "\n",
    "    price_t_minus_2 = data.loc[t_minus_2, 'Close']\n",
    "    price_t_plus_2 = data.loc[t_plus_2, 'Close']\n",
    "    pct_change = ((price_t_plus_2 - price_t_minus_2) / price_t_minus_2) * 100\n",
    "    sentiment = categorize_sentiment(pct_change)\n",
    "    \n",
    "    eps_row = earnings.loc[earnings[\"Earnings Date\"] == ed.date()].iloc[0]\n",
    "\n",
    "    results.append({\n",
    "        \"Earnings Date\": ed.date(),\n",
    "        \"T-2 Date\": t_minus_2.date(),\n",
    "        \"T+2 Date\": t_plus_2.date(),\n",
    "        \"T-2 Price\": round(price_t_minus_2, 2),\n",
    "        \"T+2 Price\": round(price_t_plus_2, 2),\n",
    "        \"% Change\": round(pct_change, 2),\n",
    "        \"Sentiment\": sentiment,\n",
    "        \"EPS Estimate\": eps_row[\"EPS Estimate\"],\n",
    "        \"Reported EPS\": eps_row[\"Reported EPS\"],\n",
    "        \"Surprise(%)\": eps_row[\"Surprise(%)\"]\n",
    "    })\n",
    "\n",
    "df_results = pd.DataFrame(results)"
   ]
  },
  {
   "cell_type": "code",
   "execution_count": 5,
   "id": "42e81da0",
   "metadata": {},
   "outputs": [
    {
     "name": "stdout",
     "output_type": "stream",
     "text": [
      "  Earnings Date    T-2 Date    T+2 Date  T-2 Price  T+2 Price  % Change  \\\n",
      "2    2024-10-31  2024-10-29  2024-11-04     190.83     195.78      2.59   \n",
      "3    2024-08-01  2024-07-30  2024-08-05     181.71     161.02    -11.39   \n",
      "4    2024-04-30  2024-04-26  2024-05-02     179.62     184.72      2.84   \n",
      "5    2024-02-01  2024-01-30  2024-02-05     159.00     170.31      7.11   \n",
      "\n",
      "         Sentiment  EPS Estimate  Reported EPS  Surprise(%)  \n",
      "2         Positive          1.14          1.43        25.17  \n",
      "3  Strong Negative          1.03          1.26        22.58  \n",
      "4         Positive          0.83          0.98        17.91  \n",
      "5  Strong Positive          0.80          1.00        24.55  \n"
     ]
    },
    {
     "data": {
      "application/vnd.plotly.v1+json": {
       "config": {
        "plotlyServerURL": "https://plot.ly"
       },
       "data": [
        {
         "line": {
          "color": "black"
         },
         "mode": "lines",
         "name": "AMZN Price",
         "type": "scatter",
         "x": [
          "2024-01-02T00:00:00",
          "2024-01-03T00:00:00",
          "2024-01-04T00:00:00",
          "2024-01-05T00:00:00",
          "2024-01-08T00:00:00",
          "2024-01-09T00:00:00",
          "2024-01-10T00:00:00",
          "2024-01-11T00:00:00",
          "2024-01-12T00:00:00",
          "2024-01-16T00:00:00",
          "2024-01-17T00:00:00",
          "2024-01-18T00:00:00",
          "2024-01-19T00:00:00",
          "2024-01-22T00:00:00",
          "2024-01-23T00:00:00",
          "2024-01-24T00:00:00",
          "2024-01-25T00:00:00",
          "2024-01-26T00:00:00",
          "2024-01-29T00:00:00",
          "2024-01-30T00:00:00",
          "2024-01-31T00:00:00",
          "2024-02-01T00:00:00",
          "2024-02-02T00:00:00",
          "2024-02-05T00:00:00",
          "2024-02-06T00:00:00",
          "2024-02-07T00:00:00",
          "2024-02-08T00:00:00",
          "2024-02-09T00:00:00",
          "2024-02-12T00:00:00",
          "2024-02-13T00:00:00",
          "2024-02-14T00:00:00",
          "2024-02-15T00:00:00",
          "2024-02-16T00:00:00",
          "2024-02-20T00:00:00",
          "2024-02-21T00:00:00",
          "2024-02-22T00:00:00",
          "2024-02-23T00:00:00",
          "2024-02-26T00:00:00",
          "2024-02-27T00:00:00",
          "2024-02-28T00:00:00",
          "2024-02-29T00:00:00",
          "2024-03-01T00:00:00",
          "2024-03-04T00:00:00",
          "2024-03-05T00:00:00",
          "2024-03-06T00:00:00",
          "2024-03-07T00:00:00",
          "2024-03-08T00:00:00",
          "2024-03-11T00:00:00",
          "2024-03-12T00:00:00",
          "2024-03-13T00:00:00",
          "2024-03-14T00:00:00",
          "2024-03-15T00:00:00",
          "2024-03-18T00:00:00",
          "2024-03-19T00:00:00",
          "2024-03-20T00:00:00",
          "2024-03-21T00:00:00",
          "2024-03-22T00:00:00",
          "2024-03-25T00:00:00",
          "2024-03-26T00:00:00",
          "2024-03-27T00:00:00",
          "2024-03-28T00:00:00",
          "2024-04-01T00:00:00",
          "2024-04-02T00:00:00",
          "2024-04-03T00:00:00",
          "2024-04-04T00:00:00",
          "2024-04-05T00:00:00",
          "2024-04-08T00:00:00",
          "2024-04-09T00:00:00",
          "2024-04-10T00:00:00",
          "2024-04-11T00:00:00",
          "2024-04-12T00:00:00",
          "2024-04-15T00:00:00",
          "2024-04-16T00:00:00",
          "2024-04-17T00:00:00",
          "2024-04-18T00:00:00",
          "2024-04-19T00:00:00",
          "2024-04-22T00:00:00",
          "2024-04-23T00:00:00",
          "2024-04-24T00:00:00",
          "2024-04-25T00:00:00",
          "2024-04-26T00:00:00",
          "2024-04-29T00:00:00",
          "2024-04-30T00:00:00",
          "2024-05-01T00:00:00",
          "2024-05-02T00:00:00",
          "2024-05-03T00:00:00",
          "2024-05-06T00:00:00",
          "2024-05-07T00:00:00",
          "2024-05-08T00:00:00",
          "2024-05-09T00:00:00",
          "2024-05-10T00:00:00",
          "2024-05-13T00:00:00",
          "2024-05-14T00:00:00",
          "2024-05-15T00:00:00",
          "2024-05-16T00:00:00",
          "2024-05-17T00:00:00",
          "2024-05-20T00:00:00",
          "2024-05-21T00:00:00",
          "2024-05-22T00:00:00",
          "2024-05-23T00:00:00",
          "2024-05-24T00:00:00",
          "2024-05-28T00:00:00",
          "2024-05-29T00:00:00",
          "2024-05-30T00:00:00",
          "2024-05-31T00:00:00",
          "2024-06-03T00:00:00",
          "2024-06-04T00:00:00",
          "2024-06-05T00:00:00",
          "2024-06-06T00:00:00",
          "2024-06-07T00:00:00",
          "2024-06-10T00:00:00",
          "2024-06-11T00:00:00",
          "2024-06-12T00:00:00",
          "2024-06-13T00:00:00",
          "2024-06-14T00:00:00",
          "2024-06-17T00:00:00",
          "2024-06-18T00:00:00",
          "2024-06-20T00:00:00",
          "2024-06-21T00:00:00",
          "2024-06-24T00:00:00",
          "2024-06-25T00:00:00",
          "2024-06-26T00:00:00",
          "2024-06-27T00:00:00",
          "2024-06-28T00:00:00",
          "2024-07-01T00:00:00",
          "2024-07-02T00:00:00",
          "2024-07-03T00:00:00",
          "2024-07-05T00:00:00",
          "2024-07-08T00:00:00",
          "2024-07-09T00:00:00",
          "2024-07-10T00:00:00",
          "2024-07-11T00:00:00",
          "2024-07-12T00:00:00",
          "2024-07-15T00:00:00",
          "2024-07-16T00:00:00",
          "2024-07-17T00:00:00",
          "2024-07-18T00:00:00",
          "2024-07-19T00:00:00",
          "2024-07-22T00:00:00",
          "2024-07-23T00:00:00",
          "2024-07-24T00:00:00",
          "2024-07-25T00:00:00",
          "2024-07-26T00:00:00",
          "2024-07-29T00:00:00",
          "2024-07-30T00:00:00",
          "2024-07-31T00:00:00",
          "2024-08-01T00:00:00",
          "2024-08-02T00:00:00",
          "2024-08-05T00:00:00",
          "2024-08-06T00:00:00",
          "2024-08-07T00:00:00",
          "2024-08-08T00:00:00",
          "2024-08-09T00:00:00",
          "2024-08-12T00:00:00",
          "2024-08-13T00:00:00",
          "2024-08-14T00:00:00",
          "2024-08-15T00:00:00",
          "2024-08-16T00:00:00",
          "2024-08-19T00:00:00",
          "2024-08-20T00:00:00",
          "2024-08-21T00:00:00",
          "2024-08-22T00:00:00",
          "2024-08-23T00:00:00",
          "2024-08-26T00:00:00",
          "2024-08-27T00:00:00",
          "2024-08-28T00:00:00",
          "2024-08-29T00:00:00",
          "2024-08-30T00:00:00",
          "2024-09-03T00:00:00",
          "2024-09-04T00:00:00",
          "2024-09-05T00:00:00",
          "2024-09-06T00:00:00",
          "2024-09-09T00:00:00",
          "2024-09-10T00:00:00",
          "2024-09-11T00:00:00",
          "2024-09-12T00:00:00",
          "2024-09-13T00:00:00",
          "2024-09-16T00:00:00",
          "2024-09-17T00:00:00",
          "2024-09-18T00:00:00",
          "2024-09-19T00:00:00",
          "2024-09-20T00:00:00",
          "2024-09-23T00:00:00",
          "2024-09-24T00:00:00",
          "2024-09-25T00:00:00",
          "2024-09-26T00:00:00",
          "2024-09-27T00:00:00",
          "2024-09-30T00:00:00",
          "2024-10-01T00:00:00",
          "2024-10-02T00:00:00",
          "2024-10-03T00:00:00",
          "2024-10-04T00:00:00",
          "2024-10-07T00:00:00",
          "2024-10-08T00:00:00",
          "2024-10-09T00:00:00",
          "2024-10-10T00:00:00",
          "2024-10-11T00:00:00",
          "2024-10-14T00:00:00",
          "2024-10-15T00:00:00",
          "2024-10-16T00:00:00",
          "2024-10-17T00:00:00",
          "2024-10-18T00:00:00",
          "2024-10-21T00:00:00",
          "2024-10-22T00:00:00",
          "2024-10-23T00:00:00",
          "2024-10-24T00:00:00",
          "2024-10-25T00:00:00",
          "2024-10-28T00:00:00",
          "2024-10-29T00:00:00",
          "2024-10-30T00:00:00",
          "2024-10-31T00:00:00",
          "2024-11-01T00:00:00",
          "2024-11-04T00:00:00",
          "2024-11-05T00:00:00",
          "2024-11-06T00:00:00",
          "2024-11-07T00:00:00",
          "2024-11-08T00:00:00",
          "2024-11-11T00:00:00",
          "2024-11-12T00:00:00",
          "2024-11-13T00:00:00",
          "2024-11-14T00:00:00",
          "2024-11-15T00:00:00",
          "2024-11-18T00:00:00",
          "2024-11-19T00:00:00",
          "2024-11-20T00:00:00",
          "2024-11-21T00:00:00",
          "2024-11-22T00:00:00",
          "2024-11-25T00:00:00",
          "2024-11-26T00:00:00",
          "2024-11-27T00:00:00",
          "2024-11-29T00:00:00",
          "2024-12-02T00:00:00",
          "2024-12-03T00:00:00",
          "2024-12-04T00:00:00",
          "2024-12-05T00:00:00",
          "2024-12-06T00:00:00",
          "2024-12-09T00:00:00",
          "2024-12-10T00:00:00",
          "2024-12-11T00:00:00",
          "2024-12-12T00:00:00",
          "2024-12-13T00:00:00",
          "2024-12-16T00:00:00",
          "2024-12-17T00:00:00",
          "2024-12-18T00:00:00",
          "2024-12-19T00:00:00",
          "2024-12-20T00:00:00",
          "2024-12-23T00:00:00",
          "2024-12-24T00:00:00",
          "2024-12-26T00:00:00",
          "2024-12-27T00:00:00",
          "2024-12-30T00:00:00",
          "2024-12-31T00:00:00"
         ],
         "y": [
          149.92999267578125,
          148.47000122070312,
          144.57000732421875,
          145.24000549316406,
          149.10000610351562,
          151.3699951171875,
          153.72999572753906,
          155.17999267578125,
          154.6199951171875,
          153.16000366210938,
          151.7100067138672,
          153.5,
          155.33999633789062,
          154.77999877929688,
          156.02000427246094,
          156.8699951171875,
          157.75,
          159.1199951171875,
          161.25999450683594,
          159,
          155.1999969482422,
          159.27999877929688,
          171.80999755859375,
          170.30999755859375,
          169.14999389648438,
          170.52999877929688,
          169.83999633789062,
          174.4499969482422,
          172.33999633789062,
          168.63999938964844,
          170.97999572753906,
          169.8000030517578,
          169.50999450683594,
          167.0800018310547,
          168.58999633789062,
          174.5800018310547,
          174.99000549316406,
          174.72999572753906,
          173.5399932861328,
          173.16000366210938,
          176.75999450683594,
          178.22000122070312,
          177.5800018310547,
          174.1199951171875,
          173.50999450683594,
          176.82000732421875,
          175.35000610351562,
          171.9600067138672,
          175.38999938964844,
          176.55999755859375,
          178.75,
          174.4199981689453,
          174.47999572753906,
          175.89999389648438,
          178.14999389648438,
          178.14999389648438,
          178.8699951171875,
          179.7100067138672,
          178.3000030517578,
          179.8300018310547,
          180.3800048828125,
          180.97000122070312,
          180.69000244140625,
          182.41000366210938,
          180,
          185.07000732421875,
          185.19000244140625,
          185.6699981689453,
          185.9499969482422,
          189.0500030517578,
          186.1300048828125,
          183.6199951171875,
          183.32000732421875,
          181.27999877929688,
          179.22000122070312,
          174.6300048828125,
          177.22999572753906,
          179.5399932861328,
          176.58999633789062,
          173.6699981689453,
          179.6199951171875,
          180.9600067138672,
          175,
          179,
          184.72000122070312,
          186.2100067138672,
          188.6999969482422,
          188.75999450683594,
          188,
          189.5,
          187.47999572753906,
          186.57000732421875,
          187.07000732421875,
          185.99000549316406,
          183.6300048828125,
          184.6999969482422,
          183.5399932861328,
          183.14999389648438,
          183.1300048828125,
          181.0500030517578,
          180.75,
          182.14999389648438,
          182.02000427246094,
          179.32000732421875,
          176.44000244140625,
          178.33999633789062,
          179.33999633789062,
          181.27999877929688,
          185,
          184.3000030517578,
          187.05999755859375,
          187.22999572753906,
          186.88999938964844,
          183.8300018310547,
          183.66000366210938,
          184.05999755859375,
          182.80999755859375,
          186.10000610351562,
          189.0800018310547,
          185.57000732421875,
          186.33999633789062,
          193.61000061035156,
          197.85000610351562,
          193.25,
          197.1999969482422,
          200,
          197.58999633789062,
          200,
          199.2899932861328,
          199.33999633789062,
          199.7899932861328,
          195.0500030517578,
          194.49000549316406,
          192.72000122070312,
          193.02000427246094,
          187.92999267578125,
          183.75,
          183.1300048828125,
          182.5500030517578,
          186.41000366210938,
          180.8300018310547,
          179.85000610351562,
          182.5,
          183.1999969482422,
          181.7100067138672,
          186.97999572753906,
          184.07000732421875,
          167.89999389648438,
          161.02000427246094,
          161.92999267578125,
          162.77000427246094,
          165.8000030517578,
          166.94000244140625,
          166.8000030517578,
          170.22999572753906,
          170.10000610351562,
          177.58999633789062,
          177.05999755859375,
          178.22000122070312,
          178.8800048828125,
          180.11000061035156,
          176.1300048828125,
          177.0399932861328,
          175.5,
          173.1199951171875,
          170.8000030517578,
          172.1199951171875,
          178.5,
          176.25,
          173.3300018310547,
          177.88999938964844,
          171.38999938964844,
          175.39999389648438,
          179.5500030517578,
          184.52000427246094,
          187,
          186.49000549316406,
          184.88999938964844,
          186.8800048828125,
          186.42999267578125,
          189.8699951171875,
          191.60000610351562,
          193.8800048828125,
          193.9600067138672,
          192.52999877929688,
          191.16000366210938,
          187.97000122070312,
          186.3300018310547,
          185.1300048828125,
          184.75999450683594,
          181.9600067138672,
          186.50999450683594,
          180.8000030517578,
          182.72000122070312,
          185.1699981689453,
          186.64999389648438,
          188.82000732421875,
          187.5399932861328,
          187.69000244140625,
          186.88999938964844,
          187.52999877929688,
          188.99000549316406,
          189.07000732421875,
          189.6999969482422,
          184.7100067138672,
          186.3800048828125,
          187.8300018310547,
          188.38999938964844,
          190.8300018310547,
          192.72999572753906,
          186.39999389648438,
          197.92999267578125,
          195.77999877929688,
          199.5,
          207.08999633789062,
          210.0500030517578,
          208.17999267578125,
          206.83999633789062,
          208.91000366210938,
          214.10000610351562,
          211.47999572753906,
          202.61000061035156,
          201.6999969482422,
          204.61000061035156,
          202.8800048828125,
          198.3800048828125,
          197.1199951171875,
          201.4499969482422,
          207.86000061035156,
          205.74000549316406,
          207.88999938964844,
          210.7100067138672,
          213.44000244140625,
          218.16000366210938,
          220.5500030517578,
          227.02999877929688,
          226.08999633789062,
          225.0399932861328,
          230.25999450683594,
          228.97000122070312,
          227.4600067138672,
          232.92999267578125,
          231.14999389648438,
          220.52000427246094,
          223.2899932861328,
          224.9199981689453,
          225.05999755859375,
          229.0500030517578,
          227.0500030517578,
          223.75,
          221.3000030517578,
          219.38999938964844
         ]
        },
        {
         "hovertemplate": "<b>2024-10-31</b><br>Surprise: 25.17%<br>Change: 2.59%<br>Reported EPS: 1.43<br>Estimate EPS: 1.14",
         "marker": {
          "color": "lime",
          "line": {
           "color": "black",
           "width": 1
          },
          "size": 12
         },
         "mode": "markers+text",
         "name": "Positive",
         "showlegend": false,
         "type": "scatter",
         "x": [
          "2024-10-31T00:00:00"
         ],
         "y": [
          186.39999389648438
         ]
        },
        {
         "hovertemplate": "<b>2024-08-01</b><br>Surprise: 22.58%<br>Change: -11.39%<br>Reported EPS: 1.26<br>Estimate EPS: 1.03",
         "marker": {
          "color": "red",
          "line": {
           "color": "black",
           "width": 1
          },
          "size": 12
         },
         "mode": "markers+text",
         "name": "Strong Negative",
         "showlegend": false,
         "type": "scatter",
         "x": [
          "2024-08-01T00:00:00"
         ],
         "y": [
          184.07000732421875
         ]
        },
        {
         "hovertemplate": "<b>2024-04-30</b><br>Surprise: 17.91%<br>Change: 2.84%<br>Reported EPS: 0.98<br>Estimate EPS: 0.83",
         "marker": {
          "color": "lime",
          "line": {
           "color": "black",
           "width": 1
          },
          "size": 12
         },
         "mode": "markers+text",
         "name": "Positive",
         "showlegend": false,
         "type": "scatter",
         "x": [
          "2024-04-30T00:00:00"
         ],
         "y": [
          175
         ]
        },
        {
         "hovertemplate": "<b>2024-02-01</b><br>Surprise: 24.55%<br>Change: 7.11%<br>Reported EPS: 1.0<br>Estimate EPS: 0.8",
         "marker": {
          "color": "green",
          "line": {
           "color": "black",
           "width": 1
          },
          "size": 12
         },
         "mode": "markers+text",
         "name": "Strong Positive",
         "showlegend": false,
         "type": "scatter",
         "x": [
          "2024-02-01T00:00:00"
         ],
         "y": [
          159.27999877929688
         ]
        },
        {
         "legendgroup": "Strong Positive",
         "marker": {
          "color": "green",
          "size": 10
         },
         "mode": "markers",
         "name": "Strong Positive",
         "showlegend": true,
         "type": "scatter",
         "x": [
          null
         ],
         "y": [
          null
         ]
        },
        {
         "legendgroup": "Positive",
         "marker": {
          "color": "lime",
          "size": 10
         },
         "mode": "markers",
         "name": "Positive",
         "showlegend": true,
         "type": "scatter",
         "x": [
          null
         ],
         "y": [
          null
         ]
        },
        {
         "legendgroup": "Neutral",
         "marker": {
          "color": "gray",
          "size": 10
         },
         "mode": "markers",
         "name": "Neutral",
         "showlegend": true,
         "type": "scatter",
         "x": [
          null
         ],
         "y": [
          null
         ]
        },
        {
         "legendgroup": "Negative",
         "marker": {
          "color": "orange",
          "size": 10
         },
         "mode": "markers",
         "name": "Negative",
         "showlegend": true,
         "type": "scatter",
         "x": [
          null
         ],
         "y": [
          null
         ]
        },
        {
         "legendgroup": "Strong Negative",
         "marker": {
          "color": "red",
          "size": 10
         },
         "mode": "markers",
         "name": "Strong Negative",
         "showlegend": true,
         "type": "scatter",
         "x": [
          null
         ],
         "y": [
          null
         ]
        }
       ],
       "layout": {
        "hovermode": "closest",
        "legend": {
         "title": {
          "text": "Sentiment"
         }
        },
        "template": {
         "data": {
          "bar": [
           {
            "error_x": {
             "color": "#2a3f5f"
            },
            "error_y": {
             "color": "#2a3f5f"
            },
            "marker": {
             "line": {
              "color": "white",
              "width": 0.5
             },
             "pattern": {
              "fillmode": "overlay",
              "size": 10,
              "solidity": 0.2
             }
            },
            "type": "bar"
           }
          ],
          "barpolar": [
           {
            "marker": {
             "line": {
              "color": "white",
              "width": 0.5
             },
             "pattern": {
              "fillmode": "overlay",
              "size": 10,
              "solidity": 0.2
             }
            },
            "type": "barpolar"
           }
          ],
          "carpet": [
           {
            "aaxis": {
             "endlinecolor": "#2a3f5f",
             "gridcolor": "#C8D4E3",
             "linecolor": "#C8D4E3",
             "minorgridcolor": "#C8D4E3",
             "startlinecolor": "#2a3f5f"
            },
            "baxis": {
             "endlinecolor": "#2a3f5f",
             "gridcolor": "#C8D4E3",
             "linecolor": "#C8D4E3",
             "minorgridcolor": "#C8D4E3",
             "startlinecolor": "#2a3f5f"
            },
            "type": "carpet"
           }
          ],
          "choropleth": [
           {
            "colorbar": {
             "outlinewidth": 0,
             "ticks": ""
            },
            "type": "choropleth"
           }
          ],
          "contour": [
           {
            "colorbar": {
             "outlinewidth": 0,
             "ticks": ""
            },
            "colorscale": [
             [
              0,
              "#0d0887"
             ],
             [
              0.1111111111111111,
              "#46039f"
             ],
             [
              0.2222222222222222,
              "#7201a8"
             ],
             [
              0.3333333333333333,
              "#9c179e"
             ],
             [
              0.4444444444444444,
              "#bd3786"
             ],
             [
              0.5555555555555556,
              "#d8576b"
             ],
             [
              0.6666666666666666,
              "#ed7953"
             ],
             [
              0.7777777777777778,
              "#fb9f3a"
             ],
             [
              0.8888888888888888,
              "#fdca26"
             ],
             [
              1,
              "#f0f921"
             ]
            ],
            "type": "contour"
           }
          ],
          "contourcarpet": [
           {
            "colorbar": {
             "outlinewidth": 0,
             "ticks": ""
            },
            "type": "contourcarpet"
           }
          ],
          "heatmap": [
           {
            "colorbar": {
             "outlinewidth": 0,
             "ticks": ""
            },
            "colorscale": [
             [
              0,
              "#0d0887"
             ],
             [
              0.1111111111111111,
              "#46039f"
             ],
             [
              0.2222222222222222,
              "#7201a8"
             ],
             [
              0.3333333333333333,
              "#9c179e"
             ],
             [
              0.4444444444444444,
              "#bd3786"
             ],
             [
              0.5555555555555556,
              "#d8576b"
             ],
             [
              0.6666666666666666,
              "#ed7953"
             ],
             [
              0.7777777777777778,
              "#fb9f3a"
             ],
             [
              0.8888888888888888,
              "#fdca26"
             ],
             [
              1,
              "#f0f921"
             ]
            ],
            "type": "heatmap"
           }
          ],
          "heatmapgl": [
           {
            "colorbar": {
             "outlinewidth": 0,
             "ticks": ""
            },
            "colorscale": [
             [
              0,
              "#0d0887"
             ],
             [
              0.1111111111111111,
              "#46039f"
             ],
             [
              0.2222222222222222,
              "#7201a8"
             ],
             [
              0.3333333333333333,
              "#9c179e"
             ],
             [
              0.4444444444444444,
              "#bd3786"
             ],
             [
              0.5555555555555556,
              "#d8576b"
             ],
             [
              0.6666666666666666,
              "#ed7953"
             ],
             [
              0.7777777777777778,
              "#fb9f3a"
             ],
             [
              0.8888888888888888,
              "#fdca26"
             ],
             [
              1,
              "#f0f921"
             ]
            ],
            "type": "heatmapgl"
           }
          ],
          "histogram": [
           {
            "marker": {
             "pattern": {
              "fillmode": "overlay",
              "size": 10,
              "solidity": 0.2
             }
            },
            "type": "histogram"
           }
          ],
          "histogram2d": [
           {
            "colorbar": {
             "outlinewidth": 0,
             "ticks": ""
            },
            "colorscale": [
             [
              0,
              "#0d0887"
             ],
             [
              0.1111111111111111,
              "#46039f"
             ],
             [
              0.2222222222222222,
              "#7201a8"
             ],
             [
              0.3333333333333333,
              "#9c179e"
             ],
             [
              0.4444444444444444,
              "#bd3786"
             ],
             [
              0.5555555555555556,
              "#d8576b"
             ],
             [
              0.6666666666666666,
              "#ed7953"
             ],
             [
              0.7777777777777778,
              "#fb9f3a"
             ],
             [
              0.8888888888888888,
              "#fdca26"
             ],
             [
              1,
              "#f0f921"
             ]
            ],
            "type": "histogram2d"
           }
          ],
          "histogram2dcontour": [
           {
            "colorbar": {
             "outlinewidth": 0,
             "ticks": ""
            },
            "colorscale": [
             [
              0,
              "#0d0887"
             ],
             [
              0.1111111111111111,
              "#46039f"
             ],
             [
              0.2222222222222222,
              "#7201a8"
             ],
             [
              0.3333333333333333,
              "#9c179e"
             ],
             [
              0.4444444444444444,
              "#bd3786"
             ],
             [
              0.5555555555555556,
              "#d8576b"
             ],
             [
              0.6666666666666666,
              "#ed7953"
             ],
             [
              0.7777777777777778,
              "#fb9f3a"
             ],
             [
              0.8888888888888888,
              "#fdca26"
             ],
             [
              1,
              "#f0f921"
             ]
            ],
            "type": "histogram2dcontour"
           }
          ],
          "mesh3d": [
           {
            "colorbar": {
             "outlinewidth": 0,
             "ticks": ""
            },
            "type": "mesh3d"
           }
          ],
          "parcoords": [
           {
            "line": {
             "colorbar": {
              "outlinewidth": 0,
              "ticks": ""
             }
            },
            "type": "parcoords"
           }
          ],
          "pie": [
           {
            "automargin": true,
            "type": "pie"
           }
          ],
          "scatter": [
           {
            "fillpattern": {
             "fillmode": "overlay",
             "size": 10,
             "solidity": 0.2
            },
            "type": "scatter"
           }
          ],
          "scatter3d": [
           {
            "line": {
             "colorbar": {
              "outlinewidth": 0,
              "ticks": ""
             }
            },
            "marker": {
             "colorbar": {
              "outlinewidth": 0,
              "ticks": ""
             }
            },
            "type": "scatter3d"
           }
          ],
          "scattercarpet": [
           {
            "marker": {
             "colorbar": {
              "outlinewidth": 0,
              "ticks": ""
             }
            },
            "type": "scattercarpet"
           }
          ],
          "scattergeo": [
           {
            "marker": {
             "colorbar": {
              "outlinewidth": 0,
              "ticks": ""
             }
            },
            "type": "scattergeo"
           }
          ],
          "scattergl": [
           {
            "marker": {
             "colorbar": {
              "outlinewidth": 0,
              "ticks": ""
             }
            },
            "type": "scattergl"
           }
          ],
          "scattermapbox": [
           {
            "marker": {
             "colorbar": {
              "outlinewidth": 0,
              "ticks": ""
             }
            },
            "type": "scattermapbox"
           }
          ],
          "scatterpolar": [
           {
            "marker": {
             "colorbar": {
              "outlinewidth": 0,
              "ticks": ""
             }
            },
            "type": "scatterpolar"
           }
          ],
          "scatterpolargl": [
           {
            "marker": {
             "colorbar": {
              "outlinewidth": 0,
              "ticks": ""
             }
            },
            "type": "scatterpolargl"
           }
          ],
          "scatterternary": [
           {
            "marker": {
             "colorbar": {
              "outlinewidth": 0,
              "ticks": ""
             }
            },
            "type": "scatterternary"
           }
          ],
          "surface": [
           {
            "colorbar": {
             "outlinewidth": 0,
             "ticks": ""
            },
            "colorscale": [
             [
              0,
              "#0d0887"
             ],
             [
              0.1111111111111111,
              "#46039f"
             ],
             [
              0.2222222222222222,
              "#7201a8"
             ],
             [
              0.3333333333333333,
              "#9c179e"
             ],
             [
              0.4444444444444444,
              "#bd3786"
             ],
             [
              0.5555555555555556,
              "#d8576b"
             ],
             [
              0.6666666666666666,
              "#ed7953"
             ],
             [
              0.7777777777777778,
              "#fb9f3a"
             ],
             [
              0.8888888888888888,
              "#fdca26"
             ],
             [
              1,
              "#f0f921"
             ]
            ],
            "type": "surface"
           }
          ],
          "table": [
           {
            "cells": {
             "fill": {
              "color": "#EBF0F8"
             },
             "line": {
              "color": "white"
             }
            },
            "header": {
             "fill": {
              "color": "#C8D4E3"
             },
             "line": {
              "color": "white"
             }
            },
            "type": "table"
           }
          ]
         },
         "layout": {
          "annotationdefaults": {
           "arrowcolor": "#2a3f5f",
           "arrowhead": 0,
           "arrowwidth": 1
          },
          "autotypenumbers": "strict",
          "coloraxis": {
           "colorbar": {
            "outlinewidth": 0,
            "ticks": ""
           }
          },
          "colorscale": {
           "diverging": [
            [
             0,
             "#8e0152"
            ],
            [
             0.1,
             "#c51b7d"
            ],
            [
             0.2,
             "#de77ae"
            ],
            [
             0.3,
             "#f1b6da"
            ],
            [
             0.4,
             "#fde0ef"
            ],
            [
             0.5,
             "#f7f7f7"
            ],
            [
             0.6,
             "#e6f5d0"
            ],
            [
             0.7,
             "#b8e186"
            ],
            [
             0.8,
             "#7fbc41"
            ],
            [
             0.9,
             "#4d9221"
            ],
            [
             1,
             "#276419"
            ]
           ],
           "sequential": [
            [
             0,
             "#0d0887"
            ],
            [
             0.1111111111111111,
             "#46039f"
            ],
            [
             0.2222222222222222,
             "#7201a8"
            ],
            [
             0.3333333333333333,
             "#9c179e"
            ],
            [
             0.4444444444444444,
             "#bd3786"
            ],
            [
             0.5555555555555556,
             "#d8576b"
            ],
            [
             0.6666666666666666,
             "#ed7953"
            ],
            [
             0.7777777777777778,
             "#fb9f3a"
            ],
            [
             0.8888888888888888,
             "#fdca26"
            ],
            [
             1,
             "#f0f921"
            ]
           ],
           "sequentialminus": [
            [
             0,
             "#0d0887"
            ],
            [
             0.1111111111111111,
             "#46039f"
            ],
            [
             0.2222222222222222,
             "#7201a8"
            ],
            [
             0.3333333333333333,
             "#9c179e"
            ],
            [
             0.4444444444444444,
             "#bd3786"
            ],
            [
             0.5555555555555556,
             "#d8576b"
            ],
            [
             0.6666666666666666,
             "#ed7953"
            ],
            [
             0.7777777777777778,
             "#fb9f3a"
            ],
            [
             0.8888888888888888,
             "#fdca26"
            ],
            [
             1,
             "#f0f921"
            ]
           ]
          },
          "colorway": [
           "#636efa",
           "#EF553B",
           "#00cc96",
           "#ab63fa",
           "#FFA15A",
           "#19d3f3",
           "#FF6692",
           "#B6E880",
           "#FF97FF",
           "#FECB52"
          ],
          "font": {
           "color": "#2a3f5f"
          },
          "geo": {
           "bgcolor": "white",
           "lakecolor": "white",
           "landcolor": "white",
           "showlakes": true,
           "showland": true,
           "subunitcolor": "#C8D4E3"
          },
          "hoverlabel": {
           "align": "left"
          },
          "hovermode": "closest",
          "mapbox": {
           "style": "light"
          },
          "paper_bgcolor": "white",
          "plot_bgcolor": "white",
          "polar": {
           "angularaxis": {
            "gridcolor": "#EBF0F8",
            "linecolor": "#EBF0F8",
            "ticks": ""
           },
           "bgcolor": "white",
           "radialaxis": {
            "gridcolor": "#EBF0F8",
            "linecolor": "#EBF0F8",
            "ticks": ""
           }
          },
          "scene": {
           "xaxis": {
            "backgroundcolor": "white",
            "gridcolor": "#DFE8F3",
            "gridwidth": 2,
            "linecolor": "#EBF0F8",
            "showbackground": true,
            "ticks": "",
            "zerolinecolor": "#EBF0F8"
           },
           "yaxis": {
            "backgroundcolor": "white",
            "gridcolor": "#DFE8F3",
            "gridwidth": 2,
            "linecolor": "#EBF0F8",
            "showbackground": true,
            "ticks": "",
            "zerolinecolor": "#EBF0F8"
           },
           "zaxis": {
            "backgroundcolor": "white",
            "gridcolor": "#DFE8F3",
            "gridwidth": 2,
            "linecolor": "#EBF0F8",
            "showbackground": true,
            "ticks": "",
            "zerolinecolor": "#EBF0F8"
           }
          },
          "shapedefaults": {
           "line": {
            "color": "#2a3f5f"
           }
          },
          "ternary": {
           "aaxis": {
            "gridcolor": "#DFE8F3",
            "linecolor": "#A2B1C6",
            "ticks": ""
           },
           "baxis": {
            "gridcolor": "#DFE8F3",
            "linecolor": "#A2B1C6",
            "ticks": ""
           },
           "bgcolor": "white",
           "caxis": {
            "gridcolor": "#DFE8F3",
            "linecolor": "#A2B1C6",
            "ticks": ""
           }
          },
          "title": {
           "x": 0.05
          },
          "xaxis": {
           "automargin": true,
           "gridcolor": "#EBF0F8",
           "linecolor": "#EBF0F8",
           "ticks": "",
           "title": {
            "standoff": 15
           },
           "zerolinecolor": "#EBF0F8",
           "zerolinewidth": 2
          },
          "yaxis": {
           "automargin": true,
           "gridcolor": "#EBF0F8",
           "linecolor": "#EBF0F8",
           "ticks": "",
           "title": {
            "standoff": 15
           },
           "zerolinecolor": "#EBF0F8",
           "zerolinewidth": 2
          }
         }
        },
        "title": {
         "text": "AMZN Earnings Sentiment — EPS Surprise & Stock Reaction"
        },
        "xaxis": {
         "title": {
          "text": "Date"
         }
        },
        "yaxis": {
         "title": {
          "text": "Close Price (USD)"
         }
        }
       }
      }
     },
     "metadata": {},
     "output_type": "display_data"
    }
   ],
   "source": [
    "\n",
    "# Filter by user-specified date range\n",
    "df_results = df_results[(df_results[\"Earnings Date\"] >= start_filter) & (df_results[\"Earnings Date\"] <= end_filter)]\n",
    "\n",
    "if df_results.empty:\n",
    "    print(\"No earnings dates found within this range.\")\n",
    "else:\n",
    "    print(df_results)\n",
    "\n",
    "    earliest_date = pd.to_datetime(min(df_results[\"Earnings Date\"])) - pd.Timedelta(days=30)\n",
    "\n",
    "    df_full = yf.Ticker(TICKER).history(start=earliest_date)[['Close']].copy()\n",
    "    df_full.index = df_full.index.tz_localize(None)\n",
    "    df_full['Date'] = df_full.index\n",
    "\n",
    "    # Filter full stock price data to match chart window\n",
    "    df_full = df_full[(df_full['Date'].dt.date >= start_filter) & (df_full['Date'].dt.date <= end_filter)]\n",
    "\n",
    "    sentiment_colors = {\n",
    "        \"Strong Positive\": \"green\",\n",
    "        \"Positive\": \"lime\",\n",
    "        \"Neutral\": \"gray\",\n",
    "        \"Negative\": \"orange\",\n",
    "        \"Strong Negative\": \"red\"\n",
    "    }\n",
    "\n",
    "# Plotly figure\n",
    "fig = go.Figure()\n",
    "\n",
    "# Add stock price line\n",
    "fig.add_trace(go.Scatter(\n",
    "    x=df_full['Date'], y=df_full['Close'],\n",
    "    mode='lines', name=f'{TICKER} Price',\n",
    "    line=dict(color='black')\n",
    "))\n",
    "\n",
    "# Add sentiment scatter markers\n",
    "for _, row in df_results.iterrows():\n",
    "    earnings_date = pd.to_datetime(row[\"Earnings Date\"])\n",
    "    price = df_full.loc[df_full['Date'] == earnings_date, 'Close']\n",
    "    if price.empty:\n",
    "        closest_idx = (df_full['Date'] - earnings_date).abs().idxmin()\n",
    "        price = df_full.loc[closest_idx, 'Close']\n",
    "        earnings_date = df_full.loc[closest_idx, 'Date']\n",
    "    else:\n",
    "        price = price.values[0]\n",
    "\n",
    "    fig.add_trace(go.Scatter(\n",
    "        x=[earnings_date], y=[price],\n",
    "        mode='markers+text',\n",
    "        marker=dict(\n",
    "            color=sentiment_colors[row[\"Sentiment\"]],\n",
    "            size=12,\n",
    "            line=dict(color='black', width=1)\n",
    "        ),\n",
    "        name=row[\"Sentiment\"],\n",
    "        hovertemplate=(\n",
    "            f\"<b>{earnings_date.date()}</b><br>\"\n",
    "            f\"Surprise: {row['Surprise(%)']}%<br>\"\n",
    "            f\"Change: {row['% Change']}%<br>\"\n",
    "            f\"Reported EPS: {row['Reported EPS']}<br>\"\n",
    "            f\"Estimate EPS: {row['EPS Estimate']}\"\n",
    "        ),\n",
    "        showlegend=False\n",
    "    ))\n",
    "\n",
    "# Customize layout\n",
    "fig.update_layout(\n",
    "    title=f\"{TICKER} Earnings Sentiment — EPS Surprise & Stock Reaction\",\n",
    "    xaxis_title=\"Date\",\n",
    "    yaxis_title=\"Close Price (USD)\",\n",
    "    template=\"plotly_white\",\n",
    "    legend_title=\"Sentiment\",\n",
    "    hovermode=\"closest\"\n",
    ")\n",
    "\n",
    "# Manual sentiment legend\n",
    "for sentiment, color in sentiment_colors.items():\n",
    "    fig.add_trace(go.Scatter(\n",
    "        x=[None], y=[None],\n",
    "        mode='markers',\n",
    "        marker=dict(size=10, color=color),\n",
    "        legendgroup=sentiment,\n",
    "        showlegend=True,\n",
    "        name=sentiment\n",
    "    ))\n",
    "\n",
    "fig.show()"
   ]
  },
  {
   "cell_type": "markdown",
   "id": "aa7f0547",
   "metadata": {},
   "source": [
    "EPS Surprise (%), which measures how much the company’s reported earnings per share (EPS) differ from analyst expectations."
   ]
  },
  {
   "cell_type": "markdown",
   "id": "f081ba20",
   "metadata": {},
   "source": [
    "## Intraday Earning Release Stock Price Data"
   ]
  },
  {
   "cell_type": "code",
   "execution_count": 6,
   "id": "744912df",
   "metadata": {},
   "outputs": [
    {
     "name": "stdout",
     "output_type": "stream",
     "text": [
      "Available Earnings Dates:\n",
      "1: 2024-10-31\n",
      "2: 2024-08-01\n",
      "3: 2024-04-30\n",
      "4: 2024-02-01\n"
     ]
    }
   ],
   "source": [
    "print(\"Available Earnings Dates:\")\n",
    "for idx, date in enumerate(df_results[\"Earnings Date\"]):\n",
    "    print(f\"{idx + 1}: {date}\")\n"
   ]
  },
  {
   "cell_type": "markdown",
   "id": "24b9ebc4",
   "metadata": {},
   "source": [
    "### Analyze Stock Price Movements\n",
    "- Focus on the stock price movements around the earnings release dates (limited to 730 days by `yfinance`).\n",
    "- Use the filtered historical stock data to analyze price changes.\n",
    "- Visualize the stock price movements using `plotly` for better insights.\n"
   ]
  },
  {
   "cell_type": "code",
   "execution_count": 7,
   "id": "d6305ec7",
   "metadata": {},
   "outputs": [
    {
     "name": "stdout",
     "output_type": "stream",
     "text": [
      "Fetching intraday data for AMZN on 2024-10-31\n"
     ]
    },
    {
     "name": "stderr",
     "output_type": "stream",
     "text": [
      "/var/folders/g0/lxfmpgzx1d9dfh29gsnfn3yh0000gn/T/ipykernel_85732/3998400326.py:25: FutureWarning:\n",
      "\n",
      "YF.download() has changed argument auto_adjust default to True\n",
      "\n",
      "[*********************100%***********************]  1 of 1 completed"
     ]
    },
    {
     "name": "stdout",
     "output_type": "stream",
     "text": [
      "Found 7 data points\n"
     ]
    },
    {
     "name": "stderr",
     "output_type": "stream",
     "text": [
      "\n"
     ]
    },
    {
     "data": {
      "application/vnd.plotly.v1+json": {
       "config": {
        "plotlyServerURL": "https://plot.ly"
       },
       "data": [
        {
         "hovertemplate": "<b>%{x|%H:%M}</b><br>Price: $%{y:.2f}<extra></extra>",
         "line": {
          "color": "grey",
          "width": 2
         },
         "marker": {
          "color": "grey",
          "line": {
           "color": "grey",
           "width": 1
          },
          "size": 8
         },
         "mode": "lines+markers",
         "name": "AMZN",
         "type": "scatter",
         "x": [
          "2024-10-31T13:30:00",
          "2024-10-31T14:30:00",
          "2024-10-31T15:30:00",
          "2024-10-31T16:30:00",
          "2024-10-31T17:30:00",
          "2024-10-31T18:30:00",
          "2024-10-31T19:30:00"
         ],
         "y": [
          187.3018035888672,
          187.11509704589844,
          186.4550018310547,
          186.20809936523438,
          185.6300048828125,
          186.2899932861328,
          186.125
         ]
        }
       ],
       "layout": {
        "height": 600,
        "hovermode": "closest",
        "template": {
         "data": {
          "bar": [
           {
            "error_x": {
             "color": "#2a3f5f"
            },
            "error_y": {
             "color": "#2a3f5f"
            },
            "marker": {
             "line": {
              "color": "white",
              "width": 0.5
             },
             "pattern": {
              "fillmode": "overlay",
              "size": 10,
              "solidity": 0.2
             }
            },
            "type": "bar"
           }
          ],
          "barpolar": [
           {
            "marker": {
             "line": {
              "color": "white",
              "width": 0.5
             },
             "pattern": {
              "fillmode": "overlay",
              "size": 10,
              "solidity": 0.2
             }
            },
            "type": "barpolar"
           }
          ],
          "carpet": [
           {
            "aaxis": {
             "endlinecolor": "#2a3f5f",
             "gridcolor": "#C8D4E3",
             "linecolor": "#C8D4E3",
             "minorgridcolor": "#C8D4E3",
             "startlinecolor": "#2a3f5f"
            },
            "baxis": {
             "endlinecolor": "#2a3f5f",
             "gridcolor": "#C8D4E3",
             "linecolor": "#C8D4E3",
             "minorgridcolor": "#C8D4E3",
             "startlinecolor": "#2a3f5f"
            },
            "type": "carpet"
           }
          ],
          "choropleth": [
           {
            "colorbar": {
             "outlinewidth": 0,
             "ticks": ""
            },
            "type": "choropleth"
           }
          ],
          "contour": [
           {
            "colorbar": {
             "outlinewidth": 0,
             "ticks": ""
            },
            "colorscale": [
             [
              0,
              "#0d0887"
             ],
             [
              0.1111111111111111,
              "#46039f"
             ],
             [
              0.2222222222222222,
              "#7201a8"
             ],
             [
              0.3333333333333333,
              "#9c179e"
             ],
             [
              0.4444444444444444,
              "#bd3786"
             ],
             [
              0.5555555555555556,
              "#d8576b"
             ],
             [
              0.6666666666666666,
              "#ed7953"
             ],
             [
              0.7777777777777778,
              "#fb9f3a"
             ],
             [
              0.8888888888888888,
              "#fdca26"
             ],
             [
              1,
              "#f0f921"
             ]
            ],
            "type": "contour"
           }
          ],
          "contourcarpet": [
           {
            "colorbar": {
             "outlinewidth": 0,
             "ticks": ""
            },
            "type": "contourcarpet"
           }
          ],
          "heatmap": [
           {
            "colorbar": {
             "outlinewidth": 0,
             "ticks": ""
            },
            "colorscale": [
             [
              0,
              "#0d0887"
             ],
             [
              0.1111111111111111,
              "#46039f"
             ],
             [
              0.2222222222222222,
              "#7201a8"
             ],
             [
              0.3333333333333333,
              "#9c179e"
             ],
             [
              0.4444444444444444,
              "#bd3786"
             ],
             [
              0.5555555555555556,
              "#d8576b"
             ],
             [
              0.6666666666666666,
              "#ed7953"
             ],
             [
              0.7777777777777778,
              "#fb9f3a"
             ],
             [
              0.8888888888888888,
              "#fdca26"
             ],
             [
              1,
              "#f0f921"
             ]
            ],
            "type": "heatmap"
           }
          ],
          "heatmapgl": [
           {
            "colorbar": {
             "outlinewidth": 0,
             "ticks": ""
            },
            "colorscale": [
             [
              0,
              "#0d0887"
             ],
             [
              0.1111111111111111,
              "#46039f"
             ],
             [
              0.2222222222222222,
              "#7201a8"
             ],
             [
              0.3333333333333333,
              "#9c179e"
             ],
             [
              0.4444444444444444,
              "#bd3786"
             ],
             [
              0.5555555555555556,
              "#d8576b"
             ],
             [
              0.6666666666666666,
              "#ed7953"
             ],
             [
              0.7777777777777778,
              "#fb9f3a"
             ],
             [
              0.8888888888888888,
              "#fdca26"
             ],
             [
              1,
              "#f0f921"
             ]
            ],
            "type": "heatmapgl"
           }
          ],
          "histogram": [
           {
            "marker": {
             "pattern": {
              "fillmode": "overlay",
              "size": 10,
              "solidity": 0.2
             }
            },
            "type": "histogram"
           }
          ],
          "histogram2d": [
           {
            "colorbar": {
             "outlinewidth": 0,
             "ticks": ""
            },
            "colorscale": [
             [
              0,
              "#0d0887"
             ],
             [
              0.1111111111111111,
              "#46039f"
             ],
             [
              0.2222222222222222,
              "#7201a8"
             ],
             [
              0.3333333333333333,
              "#9c179e"
             ],
             [
              0.4444444444444444,
              "#bd3786"
             ],
             [
              0.5555555555555556,
              "#d8576b"
             ],
             [
              0.6666666666666666,
              "#ed7953"
             ],
             [
              0.7777777777777778,
              "#fb9f3a"
             ],
             [
              0.8888888888888888,
              "#fdca26"
             ],
             [
              1,
              "#f0f921"
             ]
            ],
            "type": "histogram2d"
           }
          ],
          "histogram2dcontour": [
           {
            "colorbar": {
             "outlinewidth": 0,
             "ticks": ""
            },
            "colorscale": [
             [
              0,
              "#0d0887"
             ],
             [
              0.1111111111111111,
              "#46039f"
             ],
             [
              0.2222222222222222,
              "#7201a8"
             ],
             [
              0.3333333333333333,
              "#9c179e"
             ],
             [
              0.4444444444444444,
              "#bd3786"
             ],
             [
              0.5555555555555556,
              "#d8576b"
             ],
             [
              0.6666666666666666,
              "#ed7953"
             ],
             [
              0.7777777777777778,
              "#fb9f3a"
             ],
             [
              0.8888888888888888,
              "#fdca26"
             ],
             [
              1,
              "#f0f921"
             ]
            ],
            "type": "histogram2dcontour"
           }
          ],
          "mesh3d": [
           {
            "colorbar": {
             "outlinewidth": 0,
             "ticks": ""
            },
            "type": "mesh3d"
           }
          ],
          "parcoords": [
           {
            "line": {
             "colorbar": {
              "outlinewidth": 0,
              "ticks": ""
             }
            },
            "type": "parcoords"
           }
          ],
          "pie": [
           {
            "automargin": true,
            "type": "pie"
           }
          ],
          "scatter": [
           {
            "fillpattern": {
             "fillmode": "overlay",
             "size": 10,
             "solidity": 0.2
            },
            "type": "scatter"
           }
          ],
          "scatter3d": [
           {
            "line": {
             "colorbar": {
              "outlinewidth": 0,
              "ticks": ""
             }
            },
            "marker": {
             "colorbar": {
              "outlinewidth": 0,
              "ticks": ""
             }
            },
            "type": "scatter3d"
           }
          ],
          "scattercarpet": [
           {
            "marker": {
             "colorbar": {
              "outlinewidth": 0,
              "ticks": ""
             }
            },
            "type": "scattercarpet"
           }
          ],
          "scattergeo": [
           {
            "marker": {
             "colorbar": {
              "outlinewidth": 0,
              "ticks": ""
             }
            },
            "type": "scattergeo"
           }
          ],
          "scattergl": [
           {
            "marker": {
             "colorbar": {
              "outlinewidth": 0,
              "ticks": ""
             }
            },
            "type": "scattergl"
           }
          ],
          "scattermapbox": [
           {
            "marker": {
             "colorbar": {
              "outlinewidth": 0,
              "ticks": ""
             }
            },
            "type": "scattermapbox"
           }
          ],
          "scatterpolar": [
           {
            "marker": {
             "colorbar": {
              "outlinewidth": 0,
              "ticks": ""
             }
            },
            "type": "scatterpolar"
           }
          ],
          "scatterpolargl": [
           {
            "marker": {
             "colorbar": {
              "outlinewidth": 0,
              "ticks": ""
             }
            },
            "type": "scatterpolargl"
           }
          ],
          "scatterternary": [
           {
            "marker": {
             "colorbar": {
              "outlinewidth": 0,
              "ticks": ""
             }
            },
            "type": "scatterternary"
           }
          ],
          "surface": [
           {
            "colorbar": {
             "outlinewidth": 0,
             "ticks": ""
            },
            "colorscale": [
             [
              0,
              "#0d0887"
             ],
             [
              0.1111111111111111,
              "#46039f"
             ],
             [
              0.2222222222222222,
              "#7201a8"
             ],
             [
              0.3333333333333333,
              "#9c179e"
             ],
             [
              0.4444444444444444,
              "#bd3786"
             ],
             [
              0.5555555555555556,
              "#d8576b"
             ],
             [
              0.6666666666666666,
              "#ed7953"
             ],
             [
              0.7777777777777778,
              "#fb9f3a"
             ],
             [
              0.8888888888888888,
              "#fdca26"
             ],
             [
              1,
              "#f0f921"
             ]
            ],
            "type": "surface"
           }
          ],
          "table": [
           {
            "cells": {
             "fill": {
              "color": "#EBF0F8"
             },
             "line": {
              "color": "white"
             }
            },
            "header": {
             "fill": {
              "color": "#C8D4E3"
             },
             "line": {
              "color": "white"
             }
            },
            "type": "table"
           }
          ]
         },
         "layout": {
          "annotationdefaults": {
           "arrowcolor": "#2a3f5f",
           "arrowhead": 0,
           "arrowwidth": 1
          },
          "autotypenumbers": "strict",
          "coloraxis": {
           "colorbar": {
            "outlinewidth": 0,
            "ticks": ""
           }
          },
          "colorscale": {
           "diverging": [
            [
             0,
             "#8e0152"
            ],
            [
             0.1,
             "#c51b7d"
            ],
            [
             0.2,
             "#de77ae"
            ],
            [
             0.3,
             "#f1b6da"
            ],
            [
             0.4,
             "#fde0ef"
            ],
            [
             0.5,
             "#f7f7f7"
            ],
            [
             0.6,
             "#e6f5d0"
            ],
            [
             0.7,
             "#b8e186"
            ],
            [
             0.8,
             "#7fbc41"
            ],
            [
             0.9,
             "#4d9221"
            ],
            [
             1,
             "#276419"
            ]
           ],
           "sequential": [
            [
             0,
             "#0d0887"
            ],
            [
             0.1111111111111111,
             "#46039f"
            ],
            [
             0.2222222222222222,
             "#7201a8"
            ],
            [
             0.3333333333333333,
             "#9c179e"
            ],
            [
             0.4444444444444444,
             "#bd3786"
            ],
            [
             0.5555555555555556,
             "#d8576b"
            ],
            [
             0.6666666666666666,
             "#ed7953"
            ],
            [
             0.7777777777777778,
             "#fb9f3a"
            ],
            [
             0.8888888888888888,
             "#fdca26"
            ],
            [
             1,
             "#f0f921"
            ]
           ],
           "sequentialminus": [
            [
             0,
             "#0d0887"
            ],
            [
             0.1111111111111111,
             "#46039f"
            ],
            [
             0.2222222222222222,
             "#7201a8"
            ],
            [
             0.3333333333333333,
             "#9c179e"
            ],
            [
             0.4444444444444444,
             "#bd3786"
            ],
            [
             0.5555555555555556,
             "#d8576b"
            ],
            [
             0.6666666666666666,
             "#ed7953"
            ],
            [
             0.7777777777777778,
             "#fb9f3a"
            ],
            [
             0.8888888888888888,
             "#fdca26"
            ],
            [
             1,
             "#f0f921"
            ]
           ]
          },
          "colorway": [
           "#636efa",
           "#EF553B",
           "#00cc96",
           "#ab63fa",
           "#FFA15A",
           "#19d3f3",
           "#FF6692",
           "#B6E880",
           "#FF97FF",
           "#FECB52"
          ],
          "font": {
           "color": "#2a3f5f"
          },
          "geo": {
           "bgcolor": "white",
           "lakecolor": "white",
           "landcolor": "white",
           "showlakes": true,
           "showland": true,
           "subunitcolor": "#C8D4E3"
          },
          "hoverlabel": {
           "align": "left"
          },
          "hovermode": "closest",
          "mapbox": {
           "style": "light"
          },
          "paper_bgcolor": "white",
          "plot_bgcolor": "white",
          "polar": {
           "angularaxis": {
            "gridcolor": "#EBF0F8",
            "linecolor": "#EBF0F8",
            "ticks": ""
           },
           "bgcolor": "white",
           "radialaxis": {
            "gridcolor": "#EBF0F8",
            "linecolor": "#EBF0F8",
            "ticks": ""
           }
          },
          "scene": {
           "xaxis": {
            "backgroundcolor": "white",
            "gridcolor": "#DFE8F3",
            "gridwidth": 2,
            "linecolor": "#EBF0F8",
            "showbackground": true,
            "ticks": "",
            "zerolinecolor": "#EBF0F8"
           },
           "yaxis": {
            "backgroundcolor": "white",
            "gridcolor": "#DFE8F3",
            "gridwidth": 2,
            "linecolor": "#EBF0F8",
            "showbackground": true,
            "ticks": "",
            "zerolinecolor": "#EBF0F8"
           },
           "zaxis": {
            "backgroundcolor": "white",
            "gridcolor": "#DFE8F3",
            "gridwidth": 2,
            "linecolor": "#EBF0F8",
            "showbackground": true,
            "ticks": "",
            "zerolinecolor": "#EBF0F8"
           }
          },
          "shapedefaults": {
           "line": {
            "color": "#2a3f5f"
           }
          },
          "ternary": {
           "aaxis": {
            "gridcolor": "#DFE8F3",
            "linecolor": "#A2B1C6",
            "ticks": ""
           },
           "baxis": {
            "gridcolor": "#DFE8F3",
            "linecolor": "#A2B1C6",
            "ticks": ""
           },
           "bgcolor": "white",
           "caxis": {
            "gridcolor": "#DFE8F3",
            "linecolor": "#A2B1C6",
            "ticks": ""
           }
          },
          "title": {
           "x": 0.05
          },
          "xaxis": {
           "automargin": true,
           "gridcolor": "#EBF0F8",
           "linecolor": "#EBF0F8",
           "ticks": "",
           "title": {
            "standoff": 15
           },
           "zerolinecolor": "#EBF0F8",
           "zerolinewidth": 2
          },
          "yaxis": {
           "automargin": true,
           "gridcolor": "#EBF0F8",
           "linecolor": "#EBF0F8",
           "ticks": "",
           "title": {
            "standoff": 15
           },
           "zerolinecolor": "#EBF0F8",
           "zerolinewidth": 2
          }
         }
        },
        "title": {
         "text": "AMZN Intraday Price on 2024-10-31"
        },
        "width": 1000,
        "xaxis": {
         "tickangle": 45,
         "tickformat": "%H:%M",
         "title": {
          "text": "Time (Hour:Minute)"
         }
        },
        "yaxis": {
         "dtick": 1,
         "tickformat": ".2f",
         "title": {
          "text": "Price (USD)"
         }
        }
       }
      }
     },
     "metadata": {},
     "output_type": "display_data"
    },
    {
     "name": "stdout",
     "output_type": "stream",
     "text": [
      "\n",
      "=== Data Summary ===\n",
      "Date: 2024-10-31\n",
      "Ticker: AMZN\n",
      "Data points: 7\n",
      "Price range: $185.63 - $187.30\n",
      "Time span: 13:30:00 to 19:30:00\n"
     ]
    }
   ],
   "source": [
    "# Prompt user to choose a date by index\n",
    "while True:\n",
    "    try:\n",
    "        choice = int(input(\"Enter the number of the earnings date you'd like to view intraday (e.g., 1): \"))\n",
    "        if 1 <= choice <= len(df_results):\n",
    "            selected_row = df_results.iloc[choice - 1]\n",
    "            break\n",
    "        else:\n",
    "            print(\"Invalid choice. Try again.\")\n",
    "    except ValueError:\n",
    "        print(\"Please enter a valid integer.\")\n",
    "\n",
    "# Extract selected date and use the same ticker from earlier analysis\n",
    "selected_date = selected_row[\"Earnings Date\"]\n",
    "print(f\"Fetching intraday data for {TICKER} on {selected_date}\")\n",
    "\n",
    "intraday_data = None\n",
    "\n",
    "for interval in [\"60m\"]:\n",
    "    try:\n",
    "        # Get data for the earnings date plus other dates\n",
    "        start_date = pd.to_datetime(selected_date) - timedelta(days=1)\n",
    "        end_date = pd.to_datetime(selected_date) + timedelta(days=2)\n",
    "        \n",
    "        temp_data = yf.download(\n",
    "            TICKER,\n",
    "            start=start_date.strftime('%Y-%m-%d'),\n",
    "            end=end_date.strftime('%Y-%m-%d'),\n",
    "            interval=interval\n",
    "        )\n",
    "        \n",
    "        if not temp_data.empty:\n",
    "            # Filter to just the earnings date\n",
    "            temp_data.index = temp_data.index.tz_localize(None)\n",
    "            earnings_date_data = temp_data[temp_data.index.date == selected_date]\n",
    "            \n",
    "            if not earnings_date_data.empty:\n",
    "                intraday_data = earnings_date_data\n",
    "                print(f\"Found {len(intraday_data)} data points\")\n",
    "                break\n",
    "            else:\n",
    "                print(f\"No data for earnings date with {interval} interval\")\n",
    "        else:\n",
    "            print(f\"No data available with {interval} interval\")\n",
    "    except Exception as e:\n",
    "        print(f\"Error with {interval} interval: {e}\")\n",
    "        continue\n",
    "\n",
    "# Handle empty data\n",
    "if intraday_data is None or intraday_data.empty:\n",
    "    print(f\"No intraday data found for {TICKER} on {selected_date}.\")\n",
    "    print(\"This could be because:\")\n",
    "    print(\"- The date falls on a weekend or holiday\")\n",
    "    print(\"- Limited trading data available for this date\")\n",
    "    print(\"- The stock was not actively traded on this date\")\n",
    "    print(\"- The date is too far in the past (yfinance only provides intraday data for the last 730 days)\")\n",
    "else:\n",
    "    # Clean and prepare the data\n",
    "    intraday_data.reset_index(inplace=True)\n",
    "    \n",
    "    # Prepare data for plotting \n",
    "    data = intraday_data[['Datetime', 'Close']].copy()\n",
    "    data.rename(columns={'Datetime': 'Time', 'Close': 'Price'}, inplace=True)\n",
    "\n",
    "    # Flatten multi-index columns\n",
    "    if isinstance(data.columns, pd.MultiIndex):\n",
    "        data.columns = ['_'.join(col).strip() if col[1] else col[0] for col in data.columns]\n",
    "\n",
    "    # Create the plot\n",
    "    fig = go.Figure()\n",
    "\n",
    "    fig.add_trace(go.Scatter(\n",
    "        x=data['Time'],\n",
    "        y=data[f'Price_{TICKER.upper()}'],\n",
    "        mode='lines+markers',\n",
    "        name=TICKER,\n",
    "        line=dict(color='grey', width=2),\n",
    "        marker=dict(color='grey', size=8, line=dict(color='grey', width=1)),\n",
    "        hovertemplate=\"<b>%{x|%H:%M}</b><br>Price: $%{y:.2f}<extra></extra>\"\n",
    "    ))\n",
    "\n",
    "    # Layout and axis formatting\n",
    "    fig.update_layout(\n",
    "        title=f\"{TICKER} Intraday Price on {selected_date.strftime('%Y-%m-%d')}\",\n",
    "        xaxis_title=\"Time (Hour:Minute)\",\n",
    "        yaxis_title=\"Price (USD)\",\n",
    "        template=\"plotly_white\",\n",
    "        hovermode=\"closest\",\n",
    "        width=1000,\n",
    "        height=600\n",
    "    )\n",
    "\n",
    "    fig.update_xaxes(tickformat=\"%H:%M\", tickangle=45)\n",
    "    fig.update_yaxes(tickformat=\".2f\", dtick=1)\n",
    "\n",
    "    fig.show()\n",
    "\n",
    "    print(f\"\\n=== Data Summary ===\")\n",
    "    print(f\"Date: {selected_date}\")\n",
    "    print(f\"Ticker: {TICKER}\")\n",
    "    print(f\"Data points: {len(data)}\")\n",
    "    print(f\"Price range: ${data[f'Price_{TICKER.upper()}'].min():.2f} - ${data[f'Price_{TICKER.upper()}'].max():.2f}\")\n",
    "    print(f\"Time span: {data['Time'].dt.time.min()} to {data['Time'].dt.time.max()}\")"
   ]
  },
  {
   "cell_type": "markdown",
   "id": "651db201",
   "metadata": {},
   "source": [
    "## Looking at the Intraday Stock Price Movements \n",
    "- Pull intraday stock price data for the **day before** and **day after** each earnings date \n",
    "- Compare each intraday datapoint's price to the corresponding time the previous day.  \n",
    "- Calculate and plot **hourly percentage changes** to visualize market reaction in finer detail."
   ]
  },
  {
   "cell_type": "code",
   "execution_count": 8,
   "id": "4587698c",
   "metadata": {},
   "outputs": [
    {
     "data": {
      "application/vnd.plotly.v1+json": {
       "config": {
        "plotlyServerURL": "https://plot.ly"
       },
       "data": [
        {
         "hovertemplate": "<b>%{x|%H:%M}</b><br>Price: $%{y:.2f}<extra></extra>",
         "line": {
          "color": "grey",
          "width": 2
         },
         "marker": {
          "color": "grey",
          "line": {
           "color": "grey",
           "width": 1
          },
          "size": 6
         },
         "mode": "lines+markers",
         "name": "2024-10-30 (prev day)",
         "type": "scatter",
         "x": [
          "2024-10-30T13:30:00",
          "2024-10-30T14:30:00",
          "2024-10-30T15:30:00",
          "2024-10-30T16:30:00",
          "2024-10-30T17:30:00",
          "2024-10-30T18:30:00",
          "2024-10-30T19:30:00"
         ],
         "y": [
          193.91,
          193.87,
          194.22,
          193.89,
          193.49,
          193.66,
          192.82
         ]
        },
        {
         "customdata": [
          [
           "-3.41%"
          ],
          [
           "-3.48%"
          ],
          [
           "-4.00%"
          ],
          [
           "-3.96%"
          ],
          [
           "-4.06%"
          ],
          [
           "-3.81%"
          ],
          [
           "-3.47%"
          ]
         ],
         "hovertemplate": "<b>%{x|%H:%M}</b><br>Price: $%{y:.2f}<br>%Δ vs prev day: %{customdata[0]}<extra></extra>",
         "line": {
          "color": "black",
          "width": 3
         },
         "marker": {
          "color": "black",
          "line": {
           "color": "black",
           "width": 1
          },
          "size": 8
         },
         "mode": "lines+markers",
         "name": "2024-10-31 (selected day)",
         "type": "scatter",
         "x": [
          "2024-10-31T13:30:00",
          "2024-10-31T14:30:00",
          "2024-10-31T15:30:00",
          "2024-10-31T16:30:00",
          "2024-10-31T17:30:00",
          "2024-10-31T18:30:00",
          "2024-10-31T19:30:00"
         ],
         "y": [
          187.3,
          187.12,
          186.46,
          186.21,
          185.63,
          186.29,
          186.12
         ]
        },
        {
         "hovertemplate": "<b>%{x|%H:%M}</b><br>Price: $%{y:.2f}<extra></extra>",
         "line": {
          "color": "grey",
          "width": 2
         },
         "marker": {
          "color": "grey",
          "line": {
           "color": "grey",
           "width": 1
          },
          "size": 6
         },
         "mode": "lines+markers",
         "name": "2024-11-01 (next day)",
         "type": "scatter",
         "x": [
          "2024-11-01T13:30:00",
          "2024-11-01T14:30:00",
          "2024-11-01T15:30:00",
          "2024-11-01T16:30:00",
          "2024-11-01T17:30:00",
          "2024-11-01T18:30:00",
          "2024-11-01T19:30:00"
         ],
         "y": [
          199.88,
          199.93,
          198.77,
          198.63,
          198.42,
          197.82,
          197.87
         ]
        }
       ],
       "layout": {
        "height": 600,
        "hovermode": "closest",
        "template": {
         "data": {
          "bar": [
           {
            "error_x": {
             "color": "#2a3f5f"
            },
            "error_y": {
             "color": "#2a3f5f"
            },
            "marker": {
             "line": {
              "color": "white",
              "width": 0.5
             },
             "pattern": {
              "fillmode": "overlay",
              "size": 10,
              "solidity": 0.2
             }
            },
            "type": "bar"
           }
          ],
          "barpolar": [
           {
            "marker": {
             "line": {
              "color": "white",
              "width": 0.5
             },
             "pattern": {
              "fillmode": "overlay",
              "size": 10,
              "solidity": 0.2
             }
            },
            "type": "barpolar"
           }
          ],
          "carpet": [
           {
            "aaxis": {
             "endlinecolor": "#2a3f5f",
             "gridcolor": "#C8D4E3",
             "linecolor": "#C8D4E3",
             "minorgridcolor": "#C8D4E3",
             "startlinecolor": "#2a3f5f"
            },
            "baxis": {
             "endlinecolor": "#2a3f5f",
             "gridcolor": "#C8D4E3",
             "linecolor": "#C8D4E3",
             "minorgridcolor": "#C8D4E3",
             "startlinecolor": "#2a3f5f"
            },
            "type": "carpet"
           }
          ],
          "choropleth": [
           {
            "colorbar": {
             "outlinewidth": 0,
             "ticks": ""
            },
            "type": "choropleth"
           }
          ],
          "contour": [
           {
            "colorbar": {
             "outlinewidth": 0,
             "ticks": ""
            },
            "colorscale": [
             [
              0,
              "#0d0887"
             ],
             [
              0.1111111111111111,
              "#46039f"
             ],
             [
              0.2222222222222222,
              "#7201a8"
             ],
             [
              0.3333333333333333,
              "#9c179e"
             ],
             [
              0.4444444444444444,
              "#bd3786"
             ],
             [
              0.5555555555555556,
              "#d8576b"
             ],
             [
              0.6666666666666666,
              "#ed7953"
             ],
             [
              0.7777777777777778,
              "#fb9f3a"
             ],
             [
              0.8888888888888888,
              "#fdca26"
             ],
             [
              1,
              "#f0f921"
             ]
            ],
            "type": "contour"
           }
          ],
          "contourcarpet": [
           {
            "colorbar": {
             "outlinewidth": 0,
             "ticks": ""
            },
            "type": "contourcarpet"
           }
          ],
          "heatmap": [
           {
            "colorbar": {
             "outlinewidth": 0,
             "ticks": ""
            },
            "colorscale": [
             [
              0,
              "#0d0887"
             ],
             [
              0.1111111111111111,
              "#46039f"
             ],
             [
              0.2222222222222222,
              "#7201a8"
             ],
             [
              0.3333333333333333,
              "#9c179e"
             ],
             [
              0.4444444444444444,
              "#bd3786"
             ],
             [
              0.5555555555555556,
              "#d8576b"
             ],
             [
              0.6666666666666666,
              "#ed7953"
             ],
             [
              0.7777777777777778,
              "#fb9f3a"
             ],
             [
              0.8888888888888888,
              "#fdca26"
             ],
             [
              1,
              "#f0f921"
             ]
            ],
            "type": "heatmap"
           }
          ],
          "heatmapgl": [
           {
            "colorbar": {
             "outlinewidth": 0,
             "ticks": ""
            },
            "colorscale": [
             [
              0,
              "#0d0887"
             ],
             [
              0.1111111111111111,
              "#46039f"
             ],
             [
              0.2222222222222222,
              "#7201a8"
             ],
             [
              0.3333333333333333,
              "#9c179e"
             ],
             [
              0.4444444444444444,
              "#bd3786"
             ],
             [
              0.5555555555555556,
              "#d8576b"
             ],
             [
              0.6666666666666666,
              "#ed7953"
             ],
             [
              0.7777777777777778,
              "#fb9f3a"
             ],
             [
              0.8888888888888888,
              "#fdca26"
             ],
             [
              1,
              "#f0f921"
             ]
            ],
            "type": "heatmapgl"
           }
          ],
          "histogram": [
           {
            "marker": {
             "pattern": {
              "fillmode": "overlay",
              "size": 10,
              "solidity": 0.2
             }
            },
            "type": "histogram"
           }
          ],
          "histogram2d": [
           {
            "colorbar": {
             "outlinewidth": 0,
             "ticks": ""
            },
            "colorscale": [
             [
              0,
              "#0d0887"
             ],
             [
              0.1111111111111111,
              "#46039f"
             ],
             [
              0.2222222222222222,
              "#7201a8"
             ],
             [
              0.3333333333333333,
              "#9c179e"
             ],
             [
              0.4444444444444444,
              "#bd3786"
             ],
             [
              0.5555555555555556,
              "#d8576b"
             ],
             [
              0.6666666666666666,
              "#ed7953"
             ],
             [
              0.7777777777777778,
              "#fb9f3a"
             ],
             [
              0.8888888888888888,
              "#fdca26"
             ],
             [
              1,
              "#f0f921"
             ]
            ],
            "type": "histogram2d"
           }
          ],
          "histogram2dcontour": [
           {
            "colorbar": {
             "outlinewidth": 0,
             "ticks": ""
            },
            "colorscale": [
             [
              0,
              "#0d0887"
             ],
             [
              0.1111111111111111,
              "#46039f"
             ],
             [
              0.2222222222222222,
              "#7201a8"
             ],
             [
              0.3333333333333333,
              "#9c179e"
             ],
             [
              0.4444444444444444,
              "#bd3786"
             ],
             [
              0.5555555555555556,
              "#d8576b"
             ],
             [
              0.6666666666666666,
              "#ed7953"
             ],
             [
              0.7777777777777778,
              "#fb9f3a"
             ],
             [
              0.8888888888888888,
              "#fdca26"
             ],
             [
              1,
              "#f0f921"
             ]
            ],
            "type": "histogram2dcontour"
           }
          ],
          "mesh3d": [
           {
            "colorbar": {
             "outlinewidth": 0,
             "ticks": ""
            },
            "type": "mesh3d"
           }
          ],
          "parcoords": [
           {
            "line": {
             "colorbar": {
              "outlinewidth": 0,
              "ticks": ""
             }
            },
            "type": "parcoords"
           }
          ],
          "pie": [
           {
            "automargin": true,
            "type": "pie"
           }
          ],
          "scatter": [
           {
            "fillpattern": {
             "fillmode": "overlay",
             "size": 10,
             "solidity": 0.2
            },
            "type": "scatter"
           }
          ],
          "scatter3d": [
           {
            "line": {
             "colorbar": {
              "outlinewidth": 0,
              "ticks": ""
             }
            },
            "marker": {
             "colorbar": {
              "outlinewidth": 0,
              "ticks": ""
             }
            },
            "type": "scatter3d"
           }
          ],
          "scattercarpet": [
           {
            "marker": {
             "colorbar": {
              "outlinewidth": 0,
              "ticks": ""
             }
            },
            "type": "scattercarpet"
           }
          ],
          "scattergeo": [
           {
            "marker": {
             "colorbar": {
              "outlinewidth": 0,
              "ticks": ""
             }
            },
            "type": "scattergeo"
           }
          ],
          "scattergl": [
           {
            "marker": {
             "colorbar": {
              "outlinewidth": 0,
              "ticks": ""
             }
            },
            "type": "scattergl"
           }
          ],
          "scattermapbox": [
           {
            "marker": {
             "colorbar": {
              "outlinewidth": 0,
              "ticks": ""
             }
            },
            "type": "scattermapbox"
           }
          ],
          "scatterpolar": [
           {
            "marker": {
             "colorbar": {
              "outlinewidth": 0,
              "ticks": ""
             }
            },
            "type": "scatterpolar"
           }
          ],
          "scatterpolargl": [
           {
            "marker": {
             "colorbar": {
              "outlinewidth": 0,
              "ticks": ""
             }
            },
            "type": "scatterpolargl"
           }
          ],
          "scatterternary": [
           {
            "marker": {
             "colorbar": {
              "outlinewidth": 0,
              "ticks": ""
             }
            },
            "type": "scatterternary"
           }
          ],
          "surface": [
           {
            "colorbar": {
             "outlinewidth": 0,
             "ticks": ""
            },
            "colorscale": [
             [
              0,
              "#0d0887"
             ],
             [
              0.1111111111111111,
              "#46039f"
             ],
             [
              0.2222222222222222,
              "#7201a8"
             ],
             [
              0.3333333333333333,
              "#9c179e"
             ],
             [
              0.4444444444444444,
              "#bd3786"
             ],
             [
              0.5555555555555556,
              "#d8576b"
             ],
             [
              0.6666666666666666,
              "#ed7953"
             ],
             [
              0.7777777777777778,
              "#fb9f3a"
             ],
             [
              0.8888888888888888,
              "#fdca26"
             ],
             [
              1,
              "#f0f921"
             ]
            ],
            "type": "surface"
           }
          ],
          "table": [
           {
            "cells": {
             "fill": {
              "color": "#EBF0F8"
             },
             "line": {
              "color": "white"
             }
            },
            "header": {
             "fill": {
              "color": "#C8D4E3"
             },
             "line": {
              "color": "white"
             }
            },
            "type": "table"
           }
          ]
         },
         "layout": {
          "annotationdefaults": {
           "arrowcolor": "#2a3f5f",
           "arrowhead": 0,
           "arrowwidth": 1
          },
          "autotypenumbers": "strict",
          "coloraxis": {
           "colorbar": {
            "outlinewidth": 0,
            "ticks": ""
           }
          },
          "colorscale": {
           "diverging": [
            [
             0,
             "#8e0152"
            ],
            [
             0.1,
             "#c51b7d"
            ],
            [
             0.2,
             "#de77ae"
            ],
            [
             0.3,
             "#f1b6da"
            ],
            [
             0.4,
             "#fde0ef"
            ],
            [
             0.5,
             "#f7f7f7"
            ],
            [
             0.6,
             "#e6f5d0"
            ],
            [
             0.7,
             "#b8e186"
            ],
            [
             0.8,
             "#7fbc41"
            ],
            [
             0.9,
             "#4d9221"
            ],
            [
             1,
             "#276419"
            ]
           ],
           "sequential": [
            [
             0,
             "#0d0887"
            ],
            [
             0.1111111111111111,
             "#46039f"
            ],
            [
             0.2222222222222222,
             "#7201a8"
            ],
            [
             0.3333333333333333,
             "#9c179e"
            ],
            [
             0.4444444444444444,
             "#bd3786"
            ],
            [
             0.5555555555555556,
             "#d8576b"
            ],
            [
             0.6666666666666666,
             "#ed7953"
            ],
            [
             0.7777777777777778,
             "#fb9f3a"
            ],
            [
             0.8888888888888888,
             "#fdca26"
            ],
            [
             1,
             "#f0f921"
            ]
           ],
           "sequentialminus": [
            [
             0,
             "#0d0887"
            ],
            [
             0.1111111111111111,
             "#46039f"
            ],
            [
             0.2222222222222222,
             "#7201a8"
            ],
            [
             0.3333333333333333,
             "#9c179e"
            ],
            [
             0.4444444444444444,
             "#bd3786"
            ],
            [
             0.5555555555555556,
             "#d8576b"
            ],
            [
             0.6666666666666666,
             "#ed7953"
            ],
            [
             0.7777777777777778,
             "#fb9f3a"
            ],
            [
             0.8888888888888888,
             "#fdca26"
            ],
            [
             1,
             "#f0f921"
            ]
           ]
          },
          "colorway": [
           "#636efa",
           "#EF553B",
           "#00cc96",
           "#ab63fa",
           "#FFA15A",
           "#19d3f3",
           "#FF6692",
           "#B6E880",
           "#FF97FF",
           "#FECB52"
          ],
          "font": {
           "color": "#2a3f5f"
          },
          "geo": {
           "bgcolor": "white",
           "lakecolor": "white",
           "landcolor": "white",
           "showlakes": true,
           "showland": true,
           "subunitcolor": "#C8D4E3"
          },
          "hoverlabel": {
           "align": "left"
          },
          "hovermode": "closest",
          "mapbox": {
           "style": "light"
          },
          "paper_bgcolor": "white",
          "plot_bgcolor": "white",
          "polar": {
           "angularaxis": {
            "gridcolor": "#EBF0F8",
            "linecolor": "#EBF0F8",
            "ticks": ""
           },
           "bgcolor": "white",
           "radialaxis": {
            "gridcolor": "#EBF0F8",
            "linecolor": "#EBF0F8",
            "ticks": ""
           }
          },
          "scene": {
           "xaxis": {
            "backgroundcolor": "white",
            "gridcolor": "#DFE8F3",
            "gridwidth": 2,
            "linecolor": "#EBF0F8",
            "showbackground": true,
            "ticks": "",
            "zerolinecolor": "#EBF0F8"
           },
           "yaxis": {
            "backgroundcolor": "white",
            "gridcolor": "#DFE8F3",
            "gridwidth": 2,
            "linecolor": "#EBF0F8",
            "showbackground": true,
            "ticks": "",
            "zerolinecolor": "#EBF0F8"
           },
           "zaxis": {
            "backgroundcolor": "white",
            "gridcolor": "#DFE8F3",
            "gridwidth": 2,
            "linecolor": "#EBF0F8",
            "showbackground": true,
            "ticks": "",
            "zerolinecolor": "#EBF0F8"
           }
          },
          "shapedefaults": {
           "line": {
            "color": "#2a3f5f"
           }
          },
          "ternary": {
           "aaxis": {
            "gridcolor": "#DFE8F3",
            "linecolor": "#A2B1C6",
            "ticks": ""
           },
           "baxis": {
            "gridcolor": "#DFE8F3",
            "linecolor": "#A2B1C6",
            "ticks": ""
           },
           "bgcolor": "white",
           "caxis": {
            "gridcolor": "#DFE8F3",
            "linecolor": "#A2B1C6",
            "ticks": ""
           }
          },
          "title": {
           "x": 0.05
          },
          "xaxis": {
           "automargin": true,
           "gridcolor": "#EBF0F8",
           "linecolor": "#EBF0F8",
           "ticks": "",
           "title": {
            "standoff": 15
           },
           "zerolinecolor": "#EBF0F8",
           "zerolinewidth": 2
          },
          "yaxis": {
           "automargin": true,
           "gridcolor": "#EBF0F8",
           "linecolor": "#EBF0F8",
           "ticks": "",
           "title": {
            "standoff": 15
           },
           "zerolinecolor": "#EBF0F8",
           "zerolinewidth": 2
          }
         }
        },
        "title": {
         "text": "AAPL Stock Price Intraday on 2024-10-31 ±1 Day"
        },
        "width": 1000,
        "xaxis": {
         "tickangle": 45,
         "tickformat": "%H:%M",
         "title": {
          "text": "Time (Hour:Minute)"
         }
        },
        "yaxis": {
         "dtick": 1,
         "tickformat": ".2f",
         "title": {
          "text": "Price (USD)"
         }
        }
       }
      }
     },
     "metadata": {},
     "output_type": "display_data"
    }
   ],
   "source": [
    "# If the DataFrame has multi-index columns, flatten them\n",
    "if isinstance(temp_data.columns, pd.MultiIndex):\n",
    "    temp_data.columns = ['_'.join(col).strip() if col[1] else col[0] for col in temp_data.columns]\n",
    "\n",
    "# Keep only Datetime and Close price\n",
    "temp_data = temp_data.reset_index()[['Datetime', f'Close_{TICKER.upper()}']].copy()\n",
    "\n",
    "# Rename\n",
    "temp_data.rename(columns={f'Close_{TICKER.upper()}': 'Price'}, inplace=True)\n",
    "\n",
    "temp_data['Time'] = pd.to_datetime(temp_data['Datetime'])\n",
    "temp_data['Price'] = temp_data['Price'].round(2)\n",
    "temp_data['Date'] = temp_data['Time'].dt.date\n",
    "temp_data['HourKey'] = temp_data['Time'].dt.strftime('%H:%M')   # hour-of-day key\n",
    "\n",
    "# Build previous-day reference aligned by hour-of-day\n",
    "prev = temp_data[['Date', 'HourKey', 'Price']].rename(columns={'Price': 'PrevDayPrice'})\n",
    "prev['Date'] = prev['Date'] + timedelta(days=1)  # shift forward so it lines up on merge\n",
    "\n",
    "# Merge to attach previous day's same-hour price\n",
    "temp_data = temp_data.merge(prev, on=['Date', 'HourKey'], how='left')\n",
    "\n",
    "# % change vs previous day same hour\n",
    "temp_data['PctChange_vsPrevDay'] = 100.0 * (temp_data['Price'] - temp_data['PrevDayPrice']) / temp_data['PrevDayPrice']\n",
    "temp_data['PctLabel'] = temp_data['PctChange_vsPrevDay'].map(lambda v: f\"{v:.2f}%\" if pd.notna(v) else \"N/A\")\n",
    "\n",
    "# Split three days\n",
    "day_before = selected_date - timedelta(days=1)\n",
    "day_after  = selected_date + timedelta(days=1)\n",
    "\n",
    "df_before   = temp_data[temp_data['Date'] == day_before]\n",
    "df_selected = temp_data[temp_data['Date'] == selected_date]\n",
    "df_after    = temp_data[temp_data['Date'] == day_after]\n",
    "\n",
    "# Plot\n",
    "fig = go.Figure()\n",
    "\n",
    "# Day -1 \n",
    "fig.add_trace(go.Scatter(\n",
    "    x=df_before['Time'], y=df_before['Price'],\n",
    "    mode='lines+markers', name=f\"{day_before} (prev day)\",\n",
    "    line=dict(color='grey', width=2),\n",
    "    marker=dict(color='grey', size=6, line=dict(color='grey', width=1)),\n",
    "    hovertemplate=\"<b>%{x|%H:%M}</b><br>Price: $%{y:.2f}<extra></extra>\"\n",
    "))\n",
    "\n",
    "# Day of\n",
    "fig.add_trace(go.Scatter(\n",
    "    x=df_selected['Time'], y=df_selected['Price'],\n",
    "    mode='lines+markers', name=f\"{selected_date} (selected day)\",\n",
    "    line=dict(color='black', width=3),\n",
    "    marker=dict(color='black', size=8, line=dict(color='black', width=1)),\n",
    "    customdata=df_selected[['PctLabel']].values,  \n",
    "    hovertemplate=\"<b>%{x|%H:%M}</b><br>\"\n",
    "                  \"Price: $%{y:.2f}<br>\"\n",
    "                  \"%Δ vs prev day: %{customdata[0]}<extra></extra>\"\n",
    "))\n",
    "\n",
    "# Day +1\n",
    "fig.add_trace(go.Scatter(\n",
    "    x=df_after['Time'], y=df_after['Price'],\n",
    "    mode='lines+markers', name=f\"{day_after} (next day)\",\n",
    "    line=dict(color='grey', width=2),\n",
    "    marker=dict(color='grey', size=6, line=dict(color='grey', width=1)),\n",
    "    hovertemplate=\"<b>%{x|%H:%M}</b><br>Price: $%{y:.2f}<extra></extra>\"\n",
    "))\n",
    "\n",
    "fig.update_layout(\n",
    "    title=f\"AAPL Stock Price Intraday on {selected_date} ±1 Day\",\n",
    "    xaxis_title=\"Time (Hour:Minute)\",\n",
    "    yaxis_title=\"Price (USD)\",\n",
    "    template=\"plotly_white\",\n",
    "    hovermode=\"closest\",\n",
    "    width=1000, height=600\n",
    ")\n",
    "fig.update_xaxes(tickformat=\"%H:%M\", tickangle=45)\n",
    "fig.update_yaxes(tickformat=\".2f\", dtick=1)\n",
    "\n",
    "fig.show()\n"
   ]
  }
 ],
 "metadata": {
  "kernelspec": {
   "display_name": "digital_env",
   "language": "python",
   "name": "python3"
  },
  "language_info": {
   "codemirror_mode": {
    "name": "ipython",
    "version": 3
   },
   "file_extension": ".py",
   "mimetype": "text/x-python",
   "name": "python",
   "nbconvert_exporter": "python",
   "pygments_lexer": "ipython3",
   "version": "3.11.11"
  }
 },
 "nbformat": 4,
 "nbformat_minor": 5
}
